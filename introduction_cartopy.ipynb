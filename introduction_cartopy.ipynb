{
 "cells": [
  {
   "cell_type": "code",
   "execution_count": null,
   "metadata": {},
   "outputs": [],
   "source": [
    "from __future__ import print_function"
   ]
  },
  {
   "cell_type": "code",
   "execution_count": null,
   "metadata": {},
   "outputs": [],
   "source": [
    "from IPython.core.interactiveshell import InteractiveShell\n",
    "InteractiveShell.ast_node_interactivity = \"all\""
   ]
  },
  {
   "cell_type": "markdown",
   "metadata": {},
   "source": [
    "![NASA](http://www.nasa.gov/sites/all/themes/custom/nasatwo/images/nasa-logo.svg)\n",
    "\n",
    "<center>\n",
    "<h1><font size=\"+3\">GSFC Python Bootcamp</font></h1>\n",
    "</center>\n",
    "\n",
    "---\n",
    "\n",
    "<CENTER>\n",
    "<H1 style=\"color:red\">\n",
    "Introduction to Cartopy\n",
    "</H1>\n",
    "</CENTER>"
   ]
  },
  {
   "cell_type": "markdown",
   "metadata": {},
   "source": [
    "## Reference Documents"
   ]
  },
  {
   "cell_type": "markdown",
   "metadata": {},
   "source": [
    "<OL>\n",
    "<LI> <A HREF=\"https://scitools.org.uk/cartopy/docs/latest/\">Introduction --- Cartopy</A>\n",
    "<LI> <A HREF=\"https://rabernat.github.io/research_computing_2018/maps-with-cartopy.html\">Maps with Cartopy</A>\n",
    "<LI> <A HREF=\"https://geohackweek.github.io/visualization/03-cartopy/\">Basics: Quick + Simple maps with cartopy.</A>\n",
    "<LI> <A HREF=\"https://uoftcoders.github.io/studyGroup/lessons/python/cartography/lesson/\">Cartography and Mapping in Python</A>\n",
    "</OL>"
   ]
  },
  {
   "cell_type": "markdown",
   "metadata": {},
   "source": [
    "# <font color=\"red\"> Cartopy</font>"
   ]
  },
  {
   "cell_type": "markdown",
   "metadata": {},
   "source": [
    "## What is Cartopy?"
   ]
  },
  {
   "cell_type": "markdown",
   "metadata": {},
   "source": [
    "* Package for drawing maps for for data analysis and visualization\n",
    "* Relies on PROJ.4, numpy and shapely libraries\n",
    "* Built on top of Matplotlib \n",
    "* Has a simple and intuitive drawing interface to Matplotlib"
   ]
  },
  {
   "cell_type": "markdown",
   "metadata": {},
   "source": [
    "## What Does Cartopy Provide?"
   ]
  },
  {
   "cell_type": "markdown",
   "metadata": {},
   "source": [
    "* Facilities to transform coordinates to different <a href=\"https://scitools.org.uk/cartopy/docs/latest/crs/projections.html#cartopy-projections\">map projections</a>\n",
    "* Matplotlib is used to plot contours, images, vectors, lines or points in the transformed coordinates.\n",
    "* Shorelines, river and political boundary datasets.\n",
    "* Facilities for reading shapefiles."
   ]
  },
  {
   "cell_type": "code",
   "execution_count": null,
   "metadata": {},
   "outputs": [],
   "source": [
    "%matplotlib inline\n",
    "import matplotlib.pyplot as plt\n",
    "from matplotlib import cm\n",
    "\n",
    "import numpy as np\n",
    "\n",
    "import cartopy\n",
    "import cartopy.crs as ccrs\n",
    "import cartopy.feature as cfeature\n",
    "import cartopy.io.shapereader as shapereader"
   ]
  },
  {
   "cell_type": "markdown",
   "metadata": {},
   "source": [
    "### Drawing Maps"
   ]
  },
  {
   "cell_type": "markdown",
   "metadata": {},
   "source": [
    "<font color=\"blue\">Simple Scatter Plot</font>"
   ]
  },
  {
   "cell_type": "code",
   "execution_count": null,
   "metadata": {},
   "outputs": [],
   "source": [
    "np.random.seed(1)\n",
    "x = 360 * np.random.rand(100)\n",
    "y = 180 * np.random.rand(100) - 90\n",
    "\n",
    "fig = plt.figure(figsize=(10, 7))\n",
    "ax = fig.add_subplot(1, 1, 1)\n",
    "ax.scatter(x, y)"
   ]
  },
  {
   "cell_type": "markdown",
   "metadata": {},
   "source": [
    "<font color=\"blue\">Add Basic Map on top of the Scatter Plot</font>"
   ]
  },
  {
   "cell_type": "code",
   "execution_count": null,
   "metadata": {},
   "outputs": [],
   "source": [
    "fig = plt.figure(figsize=(10, 7))\n",
    "ax = fig.add_subplot(1, 1, 1,\n",
    "                     projection=ccrs.PlateCarree())\n",
    "ax.scatter(x, y)\n",
    "ax.coastlines()"
   ]
  },
  {
   "cell_type": "markdown",
   "metadata": {},
   "source": [
    "<font color=\"blue\">Add Land Ocean Image</font>"
   ]
  },
  {
   "cell_type": "code",
   "execution_count": null,
   "metadata": {},
   "outputs": [],
   "source": [
    "fig = plt.figure(figsize=(10, 7))\n",
    "ax = fig.add_subplot(1, 1, 1,\n",
    "                     projection=ccrs.PlateCarree())\n",
    "ax.scatter(x, y)\n",
    "ax.stock_img()\n",
    "ax.coastlines()"
   ]
  },
  {
   "cell_type": "markdown",
   "metadata": {},
   "source": [
    "#### Add Features to the Map\n",
    "* Oceans\n",
    "* Land\n",
    "* Coast lines\n",
    "* Country boundaries\n",
    "* Lakes\n",
    "* Rivers"
   ]
  },
  {
   "cell_type": "code",
   "execution_count": null,
   "metadata": {},
   "outputs": [],
   "source": [
    "fig = plt.figure(figsize=(10, 7))\n",
    "\n",
    "central_longitude = 40.0 # default value is zero\n",
    "# Select the map projection\n",
    "ax = fig.add_subplot(1, 1, 1,\n",
    "                     projection=ccrs.PlateCarree())\n",
    "ax.scatter(x, y)\n",
    "#ax.coastlines()\n",
    "#ax = plt.axes(projection=cartopy.crs.PlateCarree(central_longitude))\n",
    "\n",
    "# Add land\n",
    "ax.add_feature(cartopy.feature.LAND)\n",
    "\n",
    "# Add ocean\n",
    "ax.add_feature(cartopy.feature.OCEAN)\n",
    "\n",
    "# Add cost lines\n",
    "ax.add_feature(cartopy.feature.COASTLINE)\n",
    "\n",
    "# Add country boundaries\n",
    "ax.add_feature(cartopy.feature.BORDERS, linestyle=':')\n",
    "\n",
    "# Add lakes\n",
    "ax.add_feature(cartopy.feature.LAKES, alpha=0.5)\n",
    "\n",
    "# Add rivers\n",
    "ax.add_feature(cartopy.feature.RIVERS)\n",
    "plt.show()"
   ]
  },
  {
   "cell_type": "markdown",
   "metadata": {},
   "source": [
    "#### Choosing Different Map Projections"
   ]
  },
  {
   "cell_type": "code",
   "execution_count": null,
   "metadata": {},
   "outputs": [],
   "source": [
    "central_longitude = 40.0 # default value is zero\n",
    "\n",
    "# Select the map projection\n",
    "ax = plt.axes(projection=cartopy.crs.LambertCylindrical(central_longitude))\n",
    "\n",
    "# Add cost lines\n",
    "ax.add_feature(cartopy.feature.COASTLINE)\n",
    "ax.gridlines()\n",
    "\n",
    "plt.show()"
   ]
  },
  {
   "cell_type": "code",
   "execution_count": null,
   "metadata": {},
   "outputs": [],
   "source": [
    "ax = plt.axes(projection=cartopy.crs.Mercator())\n",
    "ax.add_feature(cartopy.feature.COASTLINE)\n",
    "ax.gridlines()\n",
    "plt.show()"
   ]
  },
  {
   "cell_type": "code",
   "execution_count": null,
   "metadata": {},
   "outputs": [],
   "source": [
    "ax = plt.axes(projection=cartopy.crs.Orthographic())\n",
    "ax.add_feature(cartopy.feature.COASTLINE)\n",
    "ax.gridlines()\n",
    "plt.show()"
   ]
  },
  {
   "cell_type": "markdown",
   "metadata": {},
   "source": [
    "#### Selecting a Sub-Region"
   ]
  },
  {
   "cell_type": "markdown",
   "metadata": {},
   "source": [
    "<font color=\"blue\"> Map of the United States of America </font>"
   ]
  },
  {
   "cell_type": "code",
   "execution_count": null,
   "metadata": {},
   "outputs": [],
   "source": [
    "ax = plt.axes(projection=cartopy.crs.PlateCarree())\n",
    "\n",
    "ax.add_feature(cartopy.feature.COASTLINE)\n",
    "ax.add_feature(cartopy.feature.STATES, linestyle=':')\n",
    "ax.add_feature(cartopy.feature.BORDERS)\n",
    "# Set longitude range and latitude range\n",
    "ax.set_extent([-130, -65, 24, 47])\n",
    "plt.show()"
   ]
  },
  {
   "cell_type": "markdown",
   "metadata": {},
   "source": [
    "### Exercise\n",
    "Draw the map of Africa. Include the countries boundaries, lakes, rivers, land, coastline.\n",
    "\n",
    "Hint: longitude range-->(-20, 60) and latitude range -->(-40, 40)"
   ]
  },
  {
   "cell_type": "markdown",
   "metadata": {},
   "source": [
    "## Overlaying Data"
   ]
  },
  {
   "cell_type": "markdown",
   "metadata": {},
   "source": [
    "#### Line Plots on a Map"
   ]
  },
  {
   "cell_type": "code",
   "execution_count": null,
   "metadata": {},
   "outputs": [],
   "source": [
    "plt.figure(figsize=(9, 5))\n",
    "\n",
    "map_projection = ccrs.PlateCarree()\n",
    "\n",
    "ax = plt.axes(projection=map_projection)\n",
    "ax.stock_img()\n",
    "\n",
    "ny_lon, ny_lat = -75, 43\n",
    "delhi_lon, delhi_lat = 77.23, 28.61\n",
    "\n",
    "plt.plot([ny_lon, delhi_lon], [ny_lat, delhi_lat],\n",
    "         color='blue', linewidth=2, marker='o',\n",
    "         transform=ccrs.Geodetic())\n",
    "\n",
    "plt.plot([ny_lon, delhi_lon], [ny_lat, delhi_lat],\n",
    "         color='gray', linestyle='--',\n",
    "         transform=ccrs.PlateCarree())\n",
    "\n",
    "plt.text(ny_lon - 3, ny_lat - 12, 'New York',\n",
    "         horizontalalignment='right',\n",
    "         transform=ccrs.Geodetic())\n",
    "\n",
    "plt.text(delhi_lon + 3, delhi_lat - 12, 'Delhi',\n",
    "         horizontalalignment='left',\n",
    "         transform=ccrs.Geodetic())\n",
    "\n",
    "plt.show()"
   ]
  },
  {
   "cell_type": "markdown",
   "metadata": {},
   "source": [
    "#### Understanding Projection and Transform Keywords\n",
    "+ The projection of your axes is independent of the coordinate system your data is defined in.\n",
    "+ The `projection` argument is used when creating plots and determines the projection of the resulting plot.\n",
    "+ The `transform` argument to plotting functions tells Cartopy what coordinate system your data are defined in."
   ]
  },
  {
   "cell_type": "markdown",
   "metadata": {},
   "source": [
    "### Basic Map"
   ]
  },
  {
   "cell_type": "code",
   "execution_count": null,
   "metadata": {},
   "outputs": [],
   "source": [
    "nlats, nlons = 73, 145\n",
    "lats = np.linspace(-np.pi / 2, np.pi / 2, nlats)\n",
    "lons = np.linspace(0, 2 * np.pi, nlons)\n",
    "\n",
    "# Create a mesh grid\n",
    "lons, lats = np.meshgrid(lons, lats)\n",
    "wave = 0.75 * (np.sin(2 * lats) ** 8) * np.cos(4 * lons)\n",
    "mean = 0.5 * np.cos(2 * lats) * ((np.sin(2 * lats)) ** 2 + 2)\n",
    "\n",
    "lats = np.rad2deg(lats)\n",
    "lons = np.rad2deg(lons)\n",
    "data = wave + mean"
   ]
  },
  {
   "cell_type": "code",
   "execution_count": null,
   "metadata": {},
   "outputs": [],
   "source": [
    "plt.figure(figsize=(9, 5))\n",
    "\n",
    "map_projection = ccrs.PlateCarree()\n",
    "ax = plt.axes(projection=map_projection)\n",
    "ax.contourf(lons, lats, data)\n",
    "ax.coastlines()\n",
    "ax.set_global()\n",
    "plt.show()"
   ]
  },
  {
   "cell_type": "markdown",
   "metadata": {},
   "source": [
    "#### Adding Latitude/Longitude Ticks"
   ]
  },
  {
   "cell_type": "code",
   "execution_count": null,
   "metadata": {},
   "outputs": [],
   "source": [
    "from cartopy.mpl.ticker import LongitudeFormatter, LatitudeFormatter\n",
    "\n",
    "plt.figure(figsize=(9, 5))\n",
    "map_projection = ccrs.PlateCarree()\n",
    "ax = plt.axes(projection=map_projection)\n",
    "ax.contourf(lons, lats, data, cmap='RdBu')\n",
    "ax.coastlines()\n",
    "\n",
    "ax.set_xticks(np.linspace(-180, 180, 5), crs=map_projection)\n",
    "ax.set_yticks(np.linspace(-90, 90, 5), crs=map_projection)\n",
    "lon_formatter = LongitudeFormatter(zero_direction_label=True)\n",
    "lat_formatter = LatitudeFormatter()\n",
    "ax.xaxis.set_major_formatter(lon_formatter)\n",
    "ax.yaxis.set_major_formatter(lat_formatter)\n",
    "\n",
    "ax.set_global()\n",
    "plt.show()"
   ]
  },
  {
   "cell_type": "markdown",
   "metadata": {},
   "source": [
    "#### Adding Colorbar"
   ]
  },
  {
   "cell_type": "code",
   "execution_count": null,
   "metadata": {},
   "outputs": [],
   "source": [
    "from cartopy.mpl.ticker import LongitudeFormatter, LatitudeFormatter\n",
    "\n",
    "plt.figure(figsize=(9, 5))\n",
    "map_projection = ccrs.PlateCarree()\n",
    "ax = plt.axes(projection=map_projection)\n",
    "im = ax.contourf(lons, lats, data, cmap='RdBu', transform=map_projection)\n",
    "ax.coastlines()\n",
    "\n",
    "ax.set_xticks(np.linspace(-180, 180, 5), crs=map_projection)\n",
    "ax.set_yticks(np.linspace(-90, 90, 5), crs=map_projection)\n",
    "lon_formatter = LongitudeFormatter(zero_direction_label=True)\n",
    "lat_formatter = LatitudeFormatter()\n",
    "ax.xaxis.set_major_formatter(lon_formatter)\n",
    "ax.yaxis.set_major_formatter(lat_formatter)\n",
    "\n",
    "plt.colorbar(im, orientation='vertical')\n",
    "\n",
    "ax.set_global()\n",
    "plt.show()"
   ]
  },
  {
   "cell_type": "code",
   "execution_count": null,
   "metadata": {},
   "outputs": [],
   "source": [
    "plt.figure(figsize=(9, 5))\n",
    "ax = plt.axes(projection=ccrs.Mollweide())\n",
    "ax.contourf(lons, lats, data, \\\n",
    "            transform=ccrs.PlateCarree(), \\\n",
    "            cmap='Spectral')\n",
    "ax.coastlines()\n",
    "ax.set_global()\n",
    "plt.show()"
   ]
  },
  {
   "cell_type": "markdown",
   "metadata": {},
   "source": [
    "## Exercise"
   ]
  },
  {
   "cell_type": "raw",
   "metadata": {},
   "source": [
    "Use the following:\n",
    "\n",
    "   lon = np.linspace(-80, 80, 25)\n",
    "   lat = np.linspace(30, 70, 25)\n",
    "   lon2d, lat2d = np.meshgrid(lon, lat)\n",
    "   data = np.cos(np.deg2rad(lat2d) * 4) + np.sin(np.deg2rad(lon2d) * 4)\n",
    "\n",
    "To plot \"data\" on a Orthographic projection centered in Mexico."
   ]
  },
  {
   "cell_type": "markdown",
   "metadata": {},
   "source": [
    "## Using Images"
   ]
  },
  {
   "cell_type": "markdown",
   "metadata": {},
   "source": [
    "<font color=\"blue\">Remote Image</font>"
   ]
  },
  {
   "cell_type": "code",
   "execution_count": null,
   "metadata": {},
   "outputs": [],
   "source": [
    "# Define resource for the NASA night-time illumination data.\n",
    "base_uri = 'http://map1c.vis.earthdata.nasa.gov/wmts-geo/wmts.cgi'\n",
    "layer_name = 'VIIRS_CityLights_2012'\n",
    "\n",
    "#eng_boundingbox = [-6, 3, 48, 58]\n",
    "usa_boundingbox = [-130, -65, 24, 47]\n",
    "\n",
    "# Create a Cartopy crs for plain and rotated lat-lon projections.\n",
    "plain_crs = ccrs.PlateCarree()\n",
    "\n",
    "fig = plt.figure(figsize=(10, 7))\n",
    "\n",
    "# Plot WMTS data in a specific region, over a plain lat-lon map.\n",
    "ax = fig.add_subplot(1, 1, 1, projection=plain_crs)\n",
    "ax.set_extent(usa_boundingbox, crs=ccrs.PlateCarree())\n",
    "ax.coastlines(resolution='50m', color='yellow')\n",
    "ax.gridlines(color='lightgrey', linestyle='-')\n",
    "# Add WMTS imaging.\n",
    "ax.add_wmts(base_uri, layer_name=layer_name)\n",
    "\n",
    "ax.set_title('Suomi NPP Earth at night April/October 2012')\n",
    "\n",
    "plt.show()"
   ]
  },
  {
   "cell_type": "markdown",
   "metadata": {},
   "source": [
    "<font color=\"blue\">Satellite Image</font>"
   ]
  },
  {
   "cell_type": "code",
   "execution_count": null,
   "metadata": {},
   "outputs": [],
   "source": [
    "# Get the remote  file\n",
    "url = \"https://lance-modis.eosdis.nasa.gov/imagery/gallery/2012270-0926/Miriam.A2012270.2050.2km.jpg\"\n",
    "import urllib.request\n",
    "urllib.request.urlretrieve(url, \"Miriam.A2012270.2050.2km.jpg\")"
   ]
  },
  {
   "cell_type": "code",
   "execution_count": null,
   "metadata": {},
   "outputs": [],
   "source": [
    "fig = plt.figure(figsize=(8, 12))\n",
    "\n",
    "# this is from the cartopy docs\n",
    "fname = 'Miriam.A2012270.2050.2km.jpg'\n",
    "img_extent = (-120.67660000000001, -106.32104523100001, \\\n",
    "              13.2301484511245, 30.766899999999502)\n",
    "img = plt.imread(fname)\n",
    "\n",
    "ax = plt.axes(projection=ccrs.PlateCarree())\n",
    "\n",
    "# set a margin around the data\n",
    "ax.set_xmargin(0.05)\n",
    "ax.set_ymargin(0.10)\n",
    "\n",
    "# add the image. Because this image was a tif, the \"origin\" of \n",
    "# the image is in the\n",
    "# upper left corner\n",
    "ax.imshow(img, origin='upper', extent=img_extent, \\\n",
    "          transform=ccrs.PlateCarree())\n",
    "ax.coastlines(resolution='50m', color='black', linewidth=1)\n",
    "\n",
    "# mark a known place to help us geo-locate ourselves\n",
    "ax.plot(-117.1625, 32.715, 'bo', markersize=7, transform=ccrs.Geodetic())\n",
    "ax.text(-117, 33, 'San Diego', transform=ccrs.Geodetic())"
   ]
  },
  {
   "cell_type": "markdown",
   "metadata": {},
   "source": [
    "# <font color=\"red\"> Cartopy and Shapefile Files</font>"
   ]
  },
  {
   "cell_type": "markdown",
   "metadata": {},
   "source": [
    "## What is Shapefile?"
   ]
  },
  {
   "cell_type": "markdown",
   "metadata": {},
   "source": [
    "The shapefile format:\n",
    "* Is a digital vector storage format for storing geometric location and associated attribute information.\n",
    "* Geographic features in a shapefile can be represented by points, lines, or polygons (areas)\n",
    "* Is non-topological. It does not maintain spatial relationship information such as connectivity, adjacency, and area definition.\n",
    "* Was introduced with ArcView GIS version 2 in the early 1990s."
   ]
  },
  {
   "cell_type": "markdown",
   "metadata": {},
   "source": [
    "## Content of Shapefile Files"
   ]
  },
  {
   "cell_type": "markdown",
   "metadata": {},
   "source": [
    "Every shapefile data set includes at least three files:\n",
    "\n",
    "* **.shp**: The main file that contains the primary geographic reference data and records of various shape types included, such as points, polygons, or multipatches.\n",
    "* **.dbf**: The dBase file that stores attributes for each shape. It alows quicker access to the spatial features of the data.\n",
    "* **.shx**: Organize the records of a shapefile for reference."
   ]
  },
  {
   "cell_type": "markdown",
   "metadata": {},
   "source": [
    "<font color=\"blue\"> EXAMPLE: Color all the \"counties\" in Belgium</font>"
   ]
  },
  {
   "cell_type": "code",
   "execution_count": null,
   "metadata": {},
   "outputs": [],
   "source": [
    "subplot_kw = dict(projection=ccrs.PlateCarree())\n",
    "\n",
    "fig, ax = plt.subplots(figsize=(13, 11),\n",
    "                       subplot_kw=subplot_kw)\n",
    "\n",
    "# Create a map of Europe\n",
    "#---------------------------\n",
    "lower_lon = -5.0\n",
    "upper_lon = 15.\n",
    "lower_lat = 45.\n",
    "upper_lat = 54.\n",
    "\n",
    "ax.set_extent([lower_lon, upper_lon, lower_lat, upper_lat])\n",
    "\n",
    "# Put a background image on for nice sea rendering.\n",
    "ax.stock_img()\n",
    "\n",
    "ax.add_feature(cfeature.BORDERS, linestyle=':')\n",
    "#ax.add_feature(cfeature.LAND)\n",
    "ax.add_feature(cfeature.COASTLINE)\n",
    "\n",
    "# Get the shapes  (from the shp file) and \n",
    "#         records (from the dbf files)\n",
    "# ---------------------------------------\n",
    "reader = shapereader.Reader('borders/BEL_adm3')\n",
    "\n",
    "# The read shapefile method allows you to call the shapefile's \n",
    "# shapes and info. Both are lists, the first containing \n",
    "# a list of tuples (coordinates), \n",
    "# and the second containig a dictionary with associated metadata\n",
    "\n",
    "# Plots the shapes as Polygons with a random facecolor\n",
    "for country in reader.geometries():\n",
    "    ax.add_geometries([country], ccrs.PlateCarree(), \\\n",
    "                      facecolor=cm.jet(np.random.rand()), \\\n",
    "                      edgecolor='black')\n",
    "    \n",
    "plt.show()"
   ]
  },
  {
   "cell_type": "markdown",
   "metadata": {},
   "source": [
    "## Cartopy and the Natural Earth Dataset"
   ]
  },
  {
   "cell_type": "markdown",
   "metadata": {},
   "source": [
    "* Cartopy provides an interface for access to frequently used data such as the <a href=\"https://www.ngdc.noaa.gov/mgg/shorelines/gshhs.html\">GSHHS</a> dataset and from the <a href=\"http://www.naturalearthdata.com\">NaturalEarthData</a> website. \n",
    "* These interfaces allow the user to define the data programmatically, and if the data does not exist on disk, it will be retrieved from the appropriate source (normally by downloading the data from the internet)."
   ]
  },
  {
   "cell_type": "raw",
   "metadata": {},
   "source": [
    "To acquire the countries dataset from Natural Earth, we may use:"
   ]
  },
  {
   "cell_type": "code",
   "execution_count": null,
   "metadata": {},
   "outputs": [],
   "source": [
    "import cartopy.io.shapereader as shapereader\n",
    " \n",
    "shpfilename = shapereader.natural_earth(resolution='110m', \\\n",
    "                                      category='cultural', \\\n",
    "                                      name='admin_0_countries')"
   ]
  },
  {
   "cell_type": "markdown",
   "metadata": {},
   "source": [
    "The function Reader provides an interface for accessing the contents of a shapefile. It returns an instance that has two primary methods:\n",
    "\n",
    "* **geometries()**: Returns an iterator of shapely geometries from the shapefile.\n",
    "* **records()**: Returns an iterator of Record (entry of the file that combines attributes with their associated geometry) instances."
   ]
  },
  {
   "cell_type": "code",
   "execution_count": null,
   "metadata": {},
   "outputs": [],
   "source": [
    "reader = shapereader.Reader(shpfilename)\n",
    "countries = reader.records()\n",
    "country = next(countries)"
   ]
  },
  {
   "cell_type": "code",
   "execution_count": null,
   "metadata": {},
   "outputs": [],
   "source": [
    "print(type(country.attributes))"
   ]
  },
  {
   "cell_type": "code",
   "execution_count": null,
   "metadata": {},
   "outputs": [],
   "source": [
    "for key in country.attributes:\n",
    "    print(\"{:} --> {:>}\".format(key, country.attributes[key]))"
   ]
  },
  {
   "cell_type": "code",
   "execution_count": null,
   "metadata": {},
   "outputs": [],
   "source": []
  },
  {
   "cell_type": "markdown",
   "metadata": {},
   "source": [
    "<font color=\"blue\"> EXAMPLE: Map the Globe and Color the United States</font>"
   ]
  },
  {
   "cell_type": "code",
   "execution_count": null,
   "metadata": {},
   "outputs": [],
   "source": [
    "# Select the map projection\n",
    "#----------------------\n",
    "ax = plt.axes(projection=ccrs.PlateCarree())\n",
    "ax.add_feature(cartopy.feature.OCEAN)\n",
    " \n",
    "# Select the area of interest\n",
    "#-----------------------\n",
    "ax.set_extent([-130, -65, 24, 47])\n",
    " \n",
    "for country in countries:\n",
    "    if country.attributes['ADM0_A3'] == 'USA':\n",
    "        ax.add_geometries(country.geometry, \\\n",
    "                          ccrs.PlateCarree(), \\\n",
    "                          facecolor=(0, 0, 1),\n",
    "                          label=country.attributes['ADM0_A3'])\n",
    "    else:\n",
    "        ax.add_geometries(country.geometry, ccrs.PlateCarree(),\n",
    "                          facecolor=(0, 1, 0), \\\n",
    "                          label=country.attributes['ADM0_A3'])\n",
    " \n",
    "plt.show()"
   ]
  },
  {
   "cell_type": "markdown",
   "metadata": {},
   "source": [
    "### Exercise:\n",
    "Drwa the USA map and randomly color each state."
   ]
  },
  {
   "cell_type": "markdown",
   "metadata": {},
   "source": [
    "<font color=\"blue\"> EXAMPLE: Select the country Cameroon and color each of its administrative region with a different color </font>"
   ]
  },
  {
   "cell_type": "code",
   "execution_count": null,
   "metadata": {},
   "outputs": [],
   "source": [
    "from matplotlib.colors import cnames\n",
    "import cartopy.feature as cfeature\n",
    "from cartopy.mpl.gridliner import LONGITUDE_FORMATTER, LATITUDE_FORMATTER\n",
    "\n",
    "# Read the Natural Earth shapefile dataset\n",
    "#----------------------------------\n",
    "kw = dict(resolution='10m', category='cultural', \\\n",
    "          name='admin_1_states_provinces')\n",
    "states_shp = shapereader.natural_earth(**kw)\n",
    "shp = shapereader.Reader(states_shp)\n",
    " \n",
    "# Select the map projection\n",
    "#----------------------\n",
    "subplot_kw = dict(projection=ccrs.PlateCarree())\n",
    " \n",
    "fig, ax = plt.subplots(figsize=(7, 11), subplot_kw=subplot_kw)\n",
    " \n",
    "# Select the area that includes Cameroon\n",
    "#----------------------------------\n",
    "ax.set_extent([7.5, 17.5, 1.25, 15])\n",
    " \n",
    "ax.background_patch.set_visible(False)\n",
    "ax.outline_patch.set_visible(False)\n",
    " \n",
    "# Get from Matplotlib a list of colors\n",
    "#------------------------------\n",
    "colors = list(cnames.keys())\n",
    "len_colors = len(colors)\n",
    " \n",
    "k = 0\n",
    "for record, state in zip(shp.records(), shp.geometries()):\n",
    "    if record.attributes['admin'] == 'Cameroon':\n",
    "        if k+1 == len_colors:\n",
    "            k = 0\n",
    "        else:\n",
    "            k += 1\n",
    "        facecolor = colors[k]\n",
    "    else:\n",
    "        facecolor = 'LightGray'\n",
    "    ax.add_geometries([state], ccrs.PlateCarree(), \\\n",
    "                      facecolor=facecolor, edgecolor='black')\n",
    " \n",
    "plt.show()"
   ]
  }
 ],
 "metadata": {
  "anaconda-cloud": {},
  "kernelspec": {
   "display_name": "Python 3",
   "language": "python",
   "name": "python3"
  },
  "language_info": {
   "codemirror_mode": {
    "name": "ipython",
    "version": 3
   },
   "file_extension": ".py",
   "mimetype": "text/x-python",
   "name": "python",
   "nbconvert_exporter": "python",
   "pygments_lexer": "ipython3",
   "version": "3.7.3"
  }
 },
 "nbformat": 4,
 "nbformat_minor": 1
}

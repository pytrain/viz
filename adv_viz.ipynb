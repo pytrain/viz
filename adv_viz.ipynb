{
  "nbformat": 4,
  "nbformat_minor": 0,
  "metadata": {
    "colab": {
      "name": "adv_viz.ipynb",
      "version": "0.3.2",
      "provenance": [],
      "collapsed_sections": []
    },
    "kernelspec": {
      "name": "python3",
      "display_name": "Python 3"
    }
  },
  "cells": [
    {
      "cell_type": "markdown",
      "metadata": {
        "id": "P90R-v_Xr6Wd",
        "colab_type": "text"
      },
      "source": [
        "<center><img src=\"http://www.nasa.gov/sites/all/themes/custom/nasatwo/images/nasa-logo.svg\"></center>\n",
        "\n",
        "<center>\n",
        "<h1><font size=\"+3\">GSFC Python Bootcamp</font></h1>\n",
        "</center>\n",
        "\n",
        "---\n",
        "\n",
        "<center><h3>More Advanced Visualizations</h3></center>"
      ]
    },
    {
      "cell_type": "code",
      "metadata": {
        "id": "RlWFzeaGvPmc",
        "colab_type": "code",
        "colab": {}
      },
      "source": [
        "import warnings\n",
        "warnings.filterwarnings('ignore')"
      ],
      "execution_count": 0,
      "outputs": []
    },
    {
      "cell_type": "markdown",
      "metadata": {
        "id": "W7QDodDLtQbe",
        "colab_type": "text"
      },
      "source": [
        "So, perhaps we take the scenario that one day we are happily programming in Python, but then we encounter the need to change our plotting within matplotlib. What do we do? Or, perhaps we need to provide a high-quality plot/chart for a journal or publication? Can we reuse our basic matplotlib plots and enhance them to be awesome?"
      ]
    },
    {
      "cell_type": "markdown",
      "metadata": {
        "id": "6NO0x3-2tqZb",
        "colab_type": "text"
      },
      "source": [
        "![awesome](https://memegenerator.net/img/instances/63332969.jpg)"
      ]
    },
    {
      "cell_type": "markdown",
      "metadata": {
        "id": "5pMebBHUt0Rj",
        "colab_type": "text"
      },
      "source": [
        "## 1. Beyond Basic Matplotlib\n",
        "\n",
        "---\n",
        "\n",
        "We already know how to make the following plot:"
      ]
    },
    {
      "cell_type": "code",
      "metadata": {
        "id": "uktcOPYqt8Cn",
        "colab_type": "code",
        "colab": {}
      },
      "source": [
        "import numpy as np\n",
        "import matplotlib.pyplot as plt\n",
        "%matplotlib inline\n",
        "\n",
        "x = np.linspace(0,1,20)\n",
        "y = np.sin(x)\n",
        "\n",
        "plt.plot(x, y, label='a line')\n",
        "plt.legend()"
      ],
      "execution_count": 0,
      "outputs": []
    },
    {
      "cell_type": "markdown",
      "metadata": {
        "id": "fr1aws-Gu9Ch",
        "colab_type": "text"
      },
      "source": [
        "Or perhaps, you like styling it for some fun..."
      ]
    },
    {
      "cell_type": "code",
      "metadata": {
        "id": "7lza3SMFu8RZ",
        "colab_type": "code",
        "colab": {}
      },
      "source": [
        "plt.figure(figsize=(20,10))\n",
        "plt.xkcd()\n",
        "plt.plot(x, y, label='a line')\n",
        "plt.legend()\n",
        "plt.annotate('Wooo! A line!', xy=(0.1, 0.5), xytext=(0.2, 0.5), arrowprops=dict(facecolor='black', shrink=0.05))\n",
        "plt.title('The excitement growth rate of this image.');"
      ],
      "execution_count": 0,
      "outputs": []
    },
    {
      "cell_type": "markdown",
      "metadata": {
        "id": "mLcH_yNyuPJ7",
        "colab_type": "text"
      },
      "source": [
        "But, how do we make it better for others?\n",
        "\n",
        "* Style it using the matplotlib rcParams\n",
        "* Clear out the clutter!\n",
        "* Save it at a higher resolution or DPI (dots per inch)."
      ]
    },
    {
      "cell_type": "markdown",
      "metadata": {
        "id": "m8UNTyX-wbJw",
        "colab_type": "text"
      },
      "source": [
        "## 2. matplotlib rcParams\n",
        "\n",
        "---\n",
        "\n",
        "Matplotlib allows you to explicitly edit the properties of plot parts. In the example above, there is an xkcd modification/specification that tunes how lines are drawn, text written, and so forth. Let's look at what is currently changed:"
      ]
    },
    {
      "cell_type": "code",
      "metadata": {
        "id": "BtFfx_rKw0J4",
        "colab_type": "code",
        "colab": {}
      },
      "source": [
        "import matplotlib as mpl\n",
        "mpl.rcParams\n",
        "\n",
        "#import matplotlib.style\n",
        "#import matplotlib as mpl\n",
        "#mpl.style.use('classic')"
      ],
      "execution_count": 0,
      "outputs": []
    },
    {
      "cell_type": "markdown",
      "metadata": {
        "id": "coekkcoExDeo",
        "colab_type": "text"
      },
      "source": [
        "There are also some pre-defined styles that are available to you to use:"
      ]
    },
    {
      "cell_type": "code",
      "metadata": {
        "id": "KwxDCawIxC6Y",
        "colab_type": "code",
        "colab": {}
      },
      "source": [
        "import matplotlib.style\n",
        "mpl.style.library.keys()"
      ],
      "execution_count": 0,
      "outputs": []
    },
    {
      "cell_type": "markdown",
      "metadata": {
        "id": "wnURuAcIxRm7",
        "colab_type": "text"
      },
      "source": [
        "So, let's use one and see what changes. Here, we will use the [seaborn](https://seaborn.pydata.org/) package styling vizualization package."
      ]
    },
    {
      "cell_type": "code",
      "metadata": {
        "id": "2QOfQPN4xRBi",
        "colab_type": "code",
        "colab": {}
      },
      "source": [
        "mpl.style.use('classic') # reset from using xkcd above\n",
        "mpl.style.use('seaborn') # seaborn is a good package for professional-quality plots\n",
        "plt.figure(figsize=(10,5))\n",
        "plt.plot(x, y, label='a line')\n",
        "plt.legend()\n",
        "plt.annotate('Wooo! A line!', xy=(0.1, 0.5), xytext=(0.2, 0.5), arrowprops=dict(facecolor='black', shrink=0.05))\n",
        "plt.title('The excitement growth rate of this image.');"
      ],
      "execution_count": 0,
      "outputs": []
    },
    {
      "cell_type": "markdown",
      "metadata": {
        "id": "FUEpz3aexsAx",
        "colab_type": "text"
      },
      "source": [
        "Below is a guide that I found that does aid, but using pre-defined styles eases the work on your part."
      ]
    },
    {
      "cell_type": "markdown",
      "metadata": {
        "id": "BK7Z_lgRumIH",
        "colab_type": "text"
      },
      "source": [
        "![plot](http://www.randalolson.com/wp-content/uploads/data-ink.gif)\n",
        "\n",
        "[Source](http://www.randalolson.com/2014/06/28/how-to-make-beautiful-data-visualizations-in-python-with-matplotlib/)"
      ]
    },
    {
      "cell_type": "markdown",
      "metadata": {
        "id": "8cpbdAAeyEL0",
        "colab_type": "text"
      },
      "source": [
        "So, this is great. We've cleared out some of the clutter as well as styled the plots with ease. Lastly, how do we space and organize our plot objects? I'm only going to include some links for you to read on your own time because this portion is truly dependent upon your plot and what you are trying to achieve.\n",
        "\n",
        "### Links\n",
        "\n",
        "* [Tight Layout](https://matplotlib.org/3.1.0/tutorials/intermediate/constrainedlayout_guide.html)\n",
        "* [GridSpec](https://matplotlib.org/3.1.0/tutorials/intermediate/gridspec.html)\n",
        "* [Anatomy of a Figure](https://matplotlib.org/3.1.0/gallery/showcase/anatomy.html)\n",
        "* [dpiandfigsize](https://stackoverflow.com/a/47639545)\n",
        "\n",
        "![anatomyfig](https://matplotlib.org/3.1.0/_images/sphx_glr_anatomy_001.png)"
      ]
    },
    {
      "cell_type": "markdown",
      "metadata": {
        "id": "JGs6jyZU0HhI",
        "colab_type": "text"
      },
      "source": [
        "## 3. What about interactive plots?\n",
        "\n",
        "---\n",
        "\n",
        "The two main packages for interactive plotting is Bokeh and Plotly. They each have their own benefits and cons, but I will only show an example of both to illustrate their ease and the benefit of actually using them."
      ]
    },
    {
      "cell_type": "markdown",
      "metadata": {
        "id": "KzvyMURT1LCL",
        "colab_type": "text"
      },
      "source": [
        "### 3a. Bokeh\n",
        "\n",
        "---\n",
        "\n",
        "[Bokeh](http://bokeh.pydata.org/en/latest/), like Plotly, is based off of a Javascript library that allows one to have an interactive plot. However, we will not be using Javascript at all today. You can use it separately as a Javascript library, but with Python, you can really start creating new, dynamic, vizualizations."
      ]
    },
    {
      "cell_type": "code",
      "metadata": {
        "id": "ww4e67Pl0ZaF",
        "colab_type": "code",
        "colab": {}
      },
      "source": [
        "from bokeh.io import output_notebook, show"
      ],
      "execution_count": 0,
      "outputs": []
    },
    {
      "cell_type": "code",
      "metadata": {
        "id": "_fZq6hcX1dmm",
        "colab_type": "code",
        "colab": {}
      },
      "source": [
        "from IPython.display import IFrame\n",
        "IFrame('https://demo.bokeh.org/sliders', width=900, height=500)"
      ],
      "execution_count": 0,
      "outputs": []
    },
    {
      "cell_type": "markdown",
      "metadata": {
        "id": "RcUGWNk51996",
        "colab_type": "text"
      },
      "source": [
        "[Code for the above example](https://github.com/bokeh/bokeh/blob/master/examples/app/sliders.py)"
      ]
    },
    {
      "cell_type": "code",
      "metadata": {
        "id": "LJK6cC8R07PQ",
        "colab_type": "code",
        "colab": {}
      },
      "source": [
        "import numpy as np\n",
        "N = 4000\n",
        "x = np.random.random(size=N) * 100\n",
        "y = np.random.random(size=N) * 100\n",
        "radii = np.random.random(size=N) * 1.5\n",
        "colors = [\"#%02x%02x%02x\" % (r, g, 150) for r, g in zip(np.floor(50+2*x).astype(int), np.floor(30+2*y).astype(int))]\n",
        "\n",
        "output_notebook()\n",
        "p = figure()\n",
        "p.circle(x, y, radius=radii, fill_color=colors, fill_alpha=0.6, line_color=None)\n",
        "show(p)"
      ],
      "execution_count": 0,
      "outputs": []
    },
    {
      "cell_type": "code",
      "metadata": {
        "id": "oP7g1KCK3-nE",
        "colab_type": "code",
        "colab": {}
      },
      "source": [
        "import numpy as np\n",
        "\n",
        "from bokeh.io import output_file, show\n",
        "from bokeh.models import HoverTool\n",
        "from bokeh.plotting import figure\n",
        "\n",
        "n = 500\n",
        "x = 2 + 2*np.random.standard_normal(n)\n",
        "y = 2 + 2*np.random.standard_normal(n)\n",
        "\n",
        "p = figure(title=\"Hexbin for 500 points\", match_aspect=True,\n",
        "           tools=\"wheel_zoom,reset\", background_fill_color='#440154')\n",
        "p.grid.visible = False\n",
        "\n",
        "r, bins = p.hexbin(x, y, size=0.5, hover_color=\"pink\", hover_alpha=0.8)\n",
        "\n",
        "p.circle(x, y, color=\"white\", size=1)\n",
        "\n",
        "p.add_tools(HoverTool(\n",
        "    tooltips=[(\"count\", \"@c\"), (\"(q,r)\", \"(@q, @r)\")],\n",
        "    mode=\"mouse\", point_policy=\"follow_mouse\", renderers=[r]\n",
        "))\n",
        "\n",
        "output_notebook()\n",
        "\n",
        "show(p)"
      ],
      "execution_count": 0,
      "outputs": []
    },
    {
      "cell_type": "markdown",
      "metadata": {
        "id": "_MRnEgH725fS",
        "colab_type": "text"
      },
      "source": [
        "### 3b. Plotly\n",
        "\n",
        "---\n",
        "\n",
        "Regarding this package, you can also use their website and register for an account to allow you to plot without using Python."
      ]
    },
    {
      "cell_type": "code",
      "metadata": {
        "id": "FzyJO_fc2zsS",
        "colab_type": "code",
        "colab": {}
      },
      "source": [
        "def enable_plotly_in_cell():\n",
        "  import IPython\n",
        "  from plotly.offline import init_notebook_mode\n",
        "  display(IPython.core.display.HTML('''\n",
        "        <script src=\"/static/components/requirejs/require.js\"></script>\n",
        "  '''))\n",
        "  init_notebook_mode(connected=False)\n",
        "  \n",
        "from plotly.offline import iplot\n",
        "import plotly.graph_objs as go\n",
        "\n",
        "enable_plotly_in_cell()\n",
        "\n",
        "data = [\n",
        "    go.Contour(\n",
        "        z=[[10, 10.625, 12.5, 15.625, 20],\n",
        "           [5.625, 6.25, 8.125, 11.25, 15.625],\n",
        "           [2.5, 3.125, 5., 8.125, 12.5],\n",
        "           [0.625, 1.25, 3.125, 6.25, 10.625],\n",
        "           [0, 0.625, 2.5, 5.625, 10]]\n",
        "    )\n",
        "]\n",
        "iplot(data)"
      ],
      "execution_count": 0,
      "outputs": []
    },
    {
      "cell_type": "markdown",
      "metadata": {
        "id": "MIgf5-ni3N4t",
        "colab_type": "text"
      },
      "source": [
        "# More Resources\n",
        "\n",
        "---\n",
        "\n",
        "* [Python Graph Gallery](https://python-graph-gallery.com/)\n",
        "* [Charts in Colaboratory](https://colab.research.google.com/notebooks/charts.ipynb#scrollTo=8YCVGqZkJJxT)\n",
        "* [Bokeh Gallery](http://bokeh.pydata.org/en/latest/docs/gallery.html#gallery)\n",
        "* [Plotly Gallery](https://plot.ly/python/)\n",
        "* [PyViz](http://pyviz.org/) - a really good resource"
      ]
    }
  ]
}